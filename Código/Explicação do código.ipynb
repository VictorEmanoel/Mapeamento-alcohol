{
 "cells": [
  {
   "cell_type": "markdown",
   "metadata": {},
   "source": [
    "<b>Bibliotecas necessárias para importação:</b>"
   ]
  },
  {
   "cell_type": "code",
   "execution_count": null,
   "metadata": {},
   "outputs": [],
   "source": [
    "import requests\n",
    "import sqlite3 as lite\n",
    "import folium"
   ]
  },
  {
   "cell_type": "markdown",
   "metadata": {},
   "source": [
    "<b>Criação dos bancos de dados:</b>"
   ]
  },
  {
   "cell_type": "code",
   "execution_count": null,
   "metadata": {},
   "outputs": [],
   "source": [
    "con = lite.connect('destilariasporlatitude.db')\n",
    "c = con.cursor()\n",
    "\n",
    "con1 = lite.connect('destilariasporlongitude.db')\n",
    "c1 = con1.cursor()"
   ]
  },
  {
   "cell_type": "markdown",
   "metadata": {},
   "source": [
    "<b>API do dados:</b>\n",
    "     "
   ]
  },
  {
   "cell_type": "code",
   "execution_count": null,
   "metadata": {},
   "outputs": [],
   "source": [
    "r = requests.get('http://dados.al.gov.br/dataset/293b2048-210d-4024-9d2e-8f47790897ae/resource/aee1a25e-7472-4141-9473-cfe774e9c790/download/usinasedestilarias.geojson')\n",
    "x=r.json()"
   ]
  },
  {
   "cell_type": "markdown",
   "metadata": {},
   "source": [
    "<b>Criação das tabelas dos bancos de dados relacioanais, tendo como chave relacional os nomes das usinas e desitlarias:</b>\n"
   ]
  },
  {
   "cell_type": "code",
   "execution_count": null,
   "metadata": {},
   "outputs": [],
   "source": [
    "def create_table():\n",
    "    c.execute(\"CREATE TABLE IF NOT EXISTS NomeLatitude(Nome TEXT, Latitude REAL)\")\n",
    "    c1.execute(\"CREATE TABLE IF NOT EXISTS NomeLongitude(Nome TEXT, Longitude REAL)\")"
   ]
  },
  {
   "cell_type": "markdown",
   "metadata": {},
   "source": [
    "<b>Função para entrada dos dados nos bancos relacionais:</b>\n"
   ]
  },
  {
   "cell_type": "code",
   "execution_count": null,
   "metadata": {},
   "outputs": [],
   "source": [
    "def dynamic_data_entry(nome,latitude,longitude):\n",
    "    \n",
    "    c.execute(\"INSERT INTO NomeLatitude (Nome, Latitude) VALUES (?,?)\",(nome,latitude))\n",
    "    c1.execute(\"INSERT INTO NomeLongitude (Nome, Longitude) VALUES (?,?)\",(nome,longitude))\n",
    "    con.commit\n",
    "    con1.commit"
   ]
  },
  {
   "cell_type": "markdown",
   "metadata": {},
   "source": [
    "<b>Loop para adicionar os dados após executar a criação das tabelas dos bancos:</b>\n"
   ]
  },
  {
   "cell_type": "code",
   "execution_count": null,
   "metadata": {},
   "outputs": [],
   "source": [
    "create_table()\n",
    "for i in range(len(x['features'])):   \n",
    "    nome=x['features'][i]['properties']['Nome']\n",
    "    longitude=x['features'][i]['geometry']['coordinates'][0]   \n",
    "    latitude=x['features'][i]['geometry']['coordinates'][1]\n",
    "    dynamic_data_entry(nome,latitude,longitude)"
   ]
  },
  {
   "cell_type": "markdown",
   "metadata": {},
   "source": [
    "<b>Muito importante, fechar os bancos após criá-los e editá-los:</b> "
   ]
  },
  {
   "cell_type": "code",
   "execution_count": null,
   "metadata": {},
   "outputs": [],
   "source": [
    "c.close\n",
    "con.close\n",
    "\n",
    "c1.close\n",
    "con1.close"
   ]
  },
  {
   "cell_type": "markdown",
   "metadata": {},
   "source": [
    "<b>Seleção dos dados nos bancos relacionais:</b>\n"
   ]
  },
  {
   "cell_type": "code",
   "execution_count": 1,
   "metadata": {},
   "outputs": [],
   "source": [
    "c.execute(\"SELECT * FROM (NomeLatitude)\")\n",
    "c1.execute(\"SELECT * FROM (NomeLongitude)\")\n",
    "\n",
    "rows = c.fetchall()\n",
    "rows1= c1.fetchall()"
   ]
  },
  {
   "cell_type": "markdown",
   "metadata": {},
   "source": [
    "<b>Gráficos dos parâmetros que superaram o valor de referência da Portaria:</b>"
   ]
  },
  {
   "cell_type": "code",
   "execution_count": null,
   "metadata": {},
   "outputs": [],
   "source": [
    "def graphs(dic_df_stats, df_portaria):\n",
    "    '''Gráficos boxplot e temporal'''"
   ]
  },
  {
   "cell_type": "markdown",
   "metadata": {},
   "source": [
    "<b>Mapa da qualidade da água dos poços:</b>"
   ]
  },
  {
   "cell_type": "code",
   "execution_count": null,
   "metadata": {},
   "outputs": [],
   "source": [
    "def map_quality(dic_df_situation, df_coord):"
   ]
  }
 ],
 "metadata": {
  "kernelspec": {
   "display_name": "Python 3",
   "language": "python",
   "name": "python3"
  },
  "language_info": {
   "codemirror_mode": {
    "name": "ipython",
    "version": 3
   },
   "file_extension": ".py",
   "mimetype": "text/x-python",
   "name": "python",
   "nbconvert_exporter": "python",
   "pygments_lexer": "ipython3",
   "version": "3.6.4"
  }
 },
 "nbformat": 4,
 "nbformat_minor": 2
}
