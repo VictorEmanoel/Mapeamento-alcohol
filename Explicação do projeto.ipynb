{
 "cells": [
  {
   "cell_type": "markdown",
   "metadata": {},
   "source": [
    "<h1 align=\"center\"> Banco de dados com modelagem relacional para fins de mapeamento das usinas e destilarias do Estado de Alagoas</h1>"
   ]
  },
  {
   "cell_type": "markdown",
   "metadata": {},
   "source": [
    "<h1>Justificativa</h1>\n",
    "\n",
    "\n",
    "<p style=\"text-align:justify\">Um dos principais setores da economia está o setor sucroalcooleiro,que se divide entre mais de 20 usinas e destilarias instaladas especialmente na porção leste do território.</p>\n"
   ]
  },
  {
   "cell_type": "markdown",
   "metadata": {},
   "source": [
    "<h2>Objetivo</h2>\n",
    "\n",
    "<p style=\"text-align:justify\">O trabalho desenvolvido tem como principal objetivo realizar um mapeamento das usinas e destilarias do Estado de Alagoas.</p>"
   ]
  },
  {
   "cell_type": "markdown",
   "metadata": {},
   "source": [
    "<h2>Metodologia</h2>\n",
    "\n",
    "<p style=\"text-align:justify\">Utilizando dados disponíveis pelo governo como dados abertos com os respectivos nomes e coordenadas das usinas e destilarias do Estado de Alagoas, assim, através destes dados foi feito um banco relacional e através da consulta destee banco um mapa contendo a localização decada um deles. </p>"
   ]
  },
  {
   "cell_type": "markdown",
   "metadata": {},
   "source": [
    "<h2>Resultados </h2>\n",
    "\n",
    "<ul>\n",
    "<li style=\"color:#4865A9\"><span style=\"color:#000\">Programa desenvolvido;</span></li>    \n",
    "<li style=\"color:#4865A9\"><span style=\"color:#000\">Mapeamento de cada uma das usina e destilarias</span></li>\n",
    "    \n",
    "<img src=\"./imagens/mapa.png\" width=\"90%\" height=\"65%\"/>"
   ]
  },
  {
   "cell_type": "markdown",
   "metadata": {},
   "source": [
    "<h2>Referências</h2>\n",
    "\n",
    "<p>INFOESCOLA. Economia de Alagoas. Disponível em: https://www.infoescola.com/geografia/economia-de-alagoas/. Acesso em: Maio.2018.</p>"
   ]
  },
  {
   "cell_type": "code",
   "execution_count": null,
   "metadata": {},
   "outputs": [],
   "source": []
  }
 ],
 "metadata": {
  "kernelspec": {
   "display_name": "Python 3",
   "language": "python",
   "name": "python3"
  },
  "language_info": {
   "codemirror_mode": {
    "name": "ipython",
    "version": 3
   },
   "file_extension": ".py",
   "mimetype": "text/x-python",
   "name": "python",
   "nbconvert_exporter": "python",
   "pygments_lexer": "ipython3",
   "version": "3.6.4"
  }
 },
 "nbformat": 4,
 "nbformat_minor": 2
}
